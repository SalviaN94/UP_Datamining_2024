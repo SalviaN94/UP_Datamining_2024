{
 "cells": [
  {
   "cell_type": "code",
   "execution_count": 2,
   "id": "43cea4b9-6494-4e56-a4b4-087f2c03ceb0",
   "metadata": {},
   "outputs": [
    {
     "name": "stdout",
     "output_type": "stream",
     "text": [
      "Hola, grupo 3!\n"
     ]
    }
   ],
   "source": [
    "print('Hola, grupo 3!')"
   ]
  }
 ],
 "metadata": {
  "kernelspec": {
   "display_name": "Python 3 (ipykernel)",
   "language": "python",
   "name": "python3"
  },
  "language_info": {
   "codemirror_mode": {
    "name": "ipython",
    "version": 3
   },
   "file_extension": ".py",
   "mimetype": "text/x-python",
   "name": "python",
   "nbconvert_exporter": "python",
   "pygments_lexer": "ipython3",
   "version": "3.12.5"
  }
 },
 "nbformat": 4,
 "nbformat_minor": 5
}
