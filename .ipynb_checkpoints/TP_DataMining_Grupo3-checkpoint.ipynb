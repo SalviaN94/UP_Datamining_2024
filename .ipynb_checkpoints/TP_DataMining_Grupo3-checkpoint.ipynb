{
 "cells": [
  {
   "cell_type": "code",
   "execution_count": 31,
   "id": "27814634-34d3-4a86-98f6-d2ceb3867e6b",
   "metadata": {},
   "outputs": [],
   "source": [
    "import pandas as pd\n",
    "from mlxtend.frequent_patterns import apriori, association_rules\n",
    "\n",
    "import matplotlib.pyplot as plt\n",
    "import mlxtend.frequent_patterns\n",
    "import mlxtend.preprocessing\n",
    "import numpy"
   ]
  },
  {
   "cell_type": "markdown",
   "id": "38748a3b-f659-4c58-89f3-439f67f4eb31",
   "metadata": {},
   "source": [
    "## Segmentación de clientes"
   ]
  },
  {
   "cell_type": "markdown",
   "id": "d8661f07-11a9-4981-ab8a-9eb69a081271",
   "metadata": {},
   "source": [
    "## Canasta de mercado"
   ]
  },
  {
   "cell_type": "markdown",
   "id": "ada0c32e-cb7a-4093-be97-2c705e7ba103",
   "metadata": {},
   "source": [
    "Se busca con esta herramientas encontrar aquellos productos que se venden juntos en los distintos locales"
   ]
  },
  {
   "cell_type": "code",
   "execution_count": 5,
   "id": "71f1ed0b-4281-4d3c-af9e-3bbb0f7d930c",
   "metadata": {},
   "outputs": [
    {
     "data": {
      "text/html": [
       "<div>\n",
       "<style scoped>\n",
       "    .dataframe tbody tr th:only-of-type {\n",
       "        vertical-align: middle;\n",
       "    }\n",
       "\n",
       "    .dataframe tbody tr th {\n",
       "        vertical-align: top;\n",
       "    }\n",
       "\n",
       "    .dataframe thead th {\n",
       "        text-align: right;\n",
       "    }\n",
       "</style>\n",
       "<table border=\"1\" class=\"dataframe\">\n",
       "  <thead>\n",
       "    <tr style=\"text-align: right;\">\n",
       "      <th></th>\n",
       "      <th>transaction_id</th>\n",
       "      <th>transaction_date</th>\n",
       "      <th>transaction_time</th>\n",
       "      <th>transaction_qty</th>\n",
       "      <th>store_id</th>\n",
       "      <th>store_location</th>\n",
       "      <th>product_id</th>\n",
       "      <th>unit_price</th>\n",
       "      <th>product_category</th>\n",
       "      <th>product_type</th>\n",
       "      <th>product_detail</th>\n",
       "    </tr>\n",
       "  </thead>\n",
       "  <tbody>\n",
       "    <tr>\n",
       "      <th>0</th>\n",
       "      <td>1</td>\n",
       "      <td>2023-01-01</td>\n",
       "      <td>07:06:11</td>\n",
       "      <td>2</td>\n",
       "      <td>5</td>\n",
       "      <td>Lower Manhattan</td>\n",
       "      <td>32</td>\n",
       "      <td>3.0</td>\n",
       "      <td>Coffee</td>\n",
       "      <td>Gourmet brewed coffee</td>\n",
       "      <td>Ethiopia Rg</td>\n",
       "    </tr>\n",
       "    <tr>\n",
       "      <th>1</th>\n",
       "      <td>2</td>\n",
       "      <td>2023-01-01</td>\n",
       "      <td>07:08:56</td>\n",
       "      <td>2</td>\n",
       "      <td>5</td>\n",
       "      <td>Lower Manhattan</td>\n",
       "      <td>57</td>\n",
       "      <td>3.1</td>\n",
       "      <td>Tea</td>\n",
       "      <td>Brewed Chai tea</td>\n",
       "      <td>Spicy Eye Opener Chai Lg</td>\n",
       "    </tr>\n",
       "    <tr>\n",
       "      <th>2</th>\n",
       "      <td>3</td>\n",
       "      <td>2023-01-01</td>\n",
       "      <td>07:14:04</td>\n",
       "      <td>2</td>\n",
       "      <td>5</td>\n",
       "      <td>Lower Manhattan</td>\n",
       "      <td>59</td>\n",
       "      <td>4.5</td>\n",
       "      <td>Drinking Chocolate</td>\n",
       "      <td>Hot chocolate</td>\n",
       "      <td>Dark chocolate Lg</td>\n",
       "    </tr>\n",
       "    <tr>\n",
       "      <th>3</th>\n",
       "      <td>4</td>\n",
       "      <td>2023-01-01</td>\n",
       "      <td>07:20:24</td>\n",
       "      <td>1</td>\n",
       "      <td>5</td>\n",
       "      <td>Lower Manhattan</td>\n",
       "      <td>22</td>\n",
       "      <td>2.0</td>\n",
       "      <td>Coffee</td>\n",
       "      <td>Drip coffee</td>\n",
       "      <td>Our Old Time Diner Blend Sm</td>\n",
       "    </tr>\n",
       "    <tr>\n",
       "      <th>4</th>\n",
       "      <td>5</td>\n",
       "      <td>2023-01-01</td>\n",
       "      <td>07:22:41</td>\n",
       "      <td>2</td>\n",
       "      <td>5</td>\n",
       "      <td>Lower Manhattan</td>\n",
       "      <td>57</td>\n",
       "      <td>3.1</td>\n",
       "      <td>Tea</td>\n",
       "      <td>Brewed Chai tea</td>\n",
       "      <td>Spicy Eye Opener Chai Lg</td>\n",
       "    </tr>\n",
       "  </tbody>\n",
       "</table>\n",
       "</div>"
      ],
      "text/plain": [
       "   transaction_id transaction_date transaction_time  transaction_qty  \\\n",
       "0               1       2023-01-01         07:06:11                2   \n",
       "1               2       2023-01-01         07:08:56                2   \n",
       "2               3       2023-01-01         07:14:04                2   \n",
       "3               4       2023-01-01         07:20:24                1   \n",
       "4               5       2023-01-01         07:22:41                2   \n",
       "\n",
       "   store_id   store_location  product_id  unit_price    product_category  \\\n",
       "0         5  Lower Manhattan          32         3.0              Coffee   \n",
       "1         5  Lower Manhattan          57         3.1                 Tea   \n",
       "2         5  Lower Manhattan          59         4.5  Drinking Chocolate   \n",
       "3         5  Lower Manhattan          22         2.0              Coffee   \n",
       "4         5  Lower Manhattan          57         3.1                 Tea   \n",
       "\n",
       "            product_type               product_detail  \n",
       "0  Gourmet brewed coffee                  Ethiopia Rg  \n",
       "1        Brewed Chai tea     Spicy Eye Opener Chai Lg  \n",
       "2          Hot chocolate            Dark chocolate Lg  \n",
       "3            Drip coffee  Our Old Time Diner Blend Sm  \n",
       "4        Brewed Chai tea     Spicy Eye Opener Chai Lg  "
      ]
     },
     "execution_count": 5,
     "metadata": {},
     "output_type": "execute_result"
    }
   ],
   "source": [
    "data = pd.read_csv(\"./dataset/coffee-shop-sales-revenue.csv\", delimiter='|')\n",
    "data.head()"
   ]
  },
  {
   "cell_type": "code",
   "execution_count": null,
   "id": "22e85e5a-7ccd-4e78-bbe8-43ee0eb34f39",
   "metadata": {},
   "outputs": [],
   "source": [
    "# Obtengo las ubicaciones de los locales\n",
    "locales = data.drop_duplicates(subset=['store_location'])['store_location']\n",
    "print(locales)"
   ]
  },
  {
   "cell_type": "code",
   "execution_count": 160,
   "id": "5049637b-1323-496b-aade-1e85e645c8df",
   "metadata": {},
   "outputs": [],
   "source": [
    "# Extraigo las transacciones por locales\n",
    "datos_por_local = []\n",
    "for local in locales:\n",
    "    ventas = data[data['store_location'] == local][['datetime', 'product_type']]\n",
    "    datos_por_local.append(ventas)"
   ]
  },
  {
   "cell_type": "code",
   "execution_count": 178,
   "id": "4628d88a-2a1b-428f-a770-950946b2c812",
   "metadata": {},
   "outputs": [],
   "source": [
    "# Extraigo los tipos de productos que se vendieron en el local\n",
    "tmpVentas = datos_por_local[0]\n",
    "productos = pd.DataFrame(datos_por_local[0]).drop_duplicates('product_type')['product_type'].tolist()\n",
    "productos.insert(0, 'datetime')"
   ]
  },
  {
   "cell_type": "code",
   "execution_count": 179,
   "id": "4831ffeb-07ac-4e9f-bfd8-515f0fbdb214",
   "metadata": {},
   "outputs": [
    {
     "data": {
      "text/html": [
       "<div>\n",
       "<style scoped>\n",
       "    .dataframe tbody tr th:only-of-type {\n",
       "        vertical-align: middle;\n",
       "    }\n",
       "\n",
       "    .dataframe tbody tr th {\n",
       "        vertical-align: top;\n",
       "    }\n",
       "\n",
       "    .dataframe thead th {\n",
       "        text-align: right;\n",
       "    }\n",
       "</style>\n",
       "<table border=\"1\" class=\"dataframe\">\n",
       "  <thead>\n",
       "    <tr style=\"text-align: right;\">\n",
       "      <th></th>\n",
       "      <th>datetime</th>\n",
       "      <th>Gourmet brewed coffee</th>\n",
       "      <th>Brewed Chai tea</th>\n",
       "      <th>Hot chocolate</th>\n",
       "      <th>Drip coffee</th>\n",
       "      <th>Scone</th>\n",
       "      <th>Barista Espresso</th>\n",
       "      <th>Brewed Black tea</th>\n",
       "      <th>Brewed Green tea</th>\n",
       "      <th>Biscotti</th>\n",
       "      <th>...</th>\n",
       "      <th>Premium Beans</th>\n",
       "      <th>Green beans</th>\n",
       "      <th>Espresso Beans</th>\n",
       "      <th>Housewares</th>\n",
       "      <th>Green tea</th>\n",
       "      <th>Black tea</th>\n",
       "      <th>Clothing</th>\n",
       "      <th>Organic Chocolate</th>\n",
       "      <th>Chai tea</th>\n",
       "      <th>House blend Beans</th>\n",
       "    </tr>\n",
       "  </thead>\n",
       "  <tbody>\n",
       "    <tr>\n",
       "      <th>0</th>\n",
       "      <td>datetime</td>\n",
       "      <td>Gourmet brewed coffee</td>\n",
       "      <td>Brewed Chai tea</td>\n",
       "      <td>Hot chocolate</td>\n",
       "      <td>Drip coffee</td>\n",
       "      <td>Scone</td>\n",
       "      <td>Barista Espresso</td>\n",
       "      <td>Brewed Black tea</td>\n",
       "      <td>Brewed Green tea</td>\n",
       "      <td>Biscotti</td>\n",
       "      <td>...</td>\n",
       "      <td>Premium Beans</td>\n",
       "      <td>Green beans</td>\n",
       "      <td>Espresso Beans</td>\n",
       "      <td>Housewares</td>\n",
       "      <td>Green tea</td>\n",
       "      <td>Black tea</td>\n",
       "      <td>Clothing</td>\n",
       "      <td>Organic Chocolate</td>\n",
       "      <td>Chai tea</td>\n",
       "      <td>House blend Beans</td>\n",
       "    </tr>\n",
       "  </tbody>\n",
       "</table>\n",
       "<p>1 rows × 30 columns</p>\n",
       "</div>"
      ],
      "text/plain": [
       "   datetime  Gourmet brewed coffee  Brewed Chai tea  Hot chocolate  \\\n",
       "0  datetime  Gourmet brewed coffee  Brewed Chai tea  Hot chocolate   \n",
       "\n",
       "   Drip coffee  Scone  Barista Espresso  Brewed Black tea  Brewed Green tea  \\\n",
       "0  Drip coffee  Scone  Barista Espresso  Brewed Black tea  Brewed Green tea   \n",
       "\n",
       "   Biscotti  ...  Premium Beans  Green beans  Espresso Beans  Housewares  \\\n",
       "0  Biscotti  ...  Premium Beans  Green beans  Espresso Beans  Housewares   \n",
       "\n",
       "   Green tea  Black tea  Clothing  Organic Chocolate  Chai tea  \\\n",
       "0  Green tea  Black tea  Clothing  Organic Chocolate  Chai tea   \n",
       "\n",
       "   House blend Beans  \n",
       "0  House blend Beans  \n",
       "\n",
       "[1 rows x 30 columns]"
      ]
     },
     "execution_count": 179,
     "metadata": {},
     "output_type": "execute_result"
    }
   ],
   "source": [
    "# Convierto los productos en columnas\n",
    "MBA_data = pd.DataFrame([productos])\n",
    "MBA_data.columns = productos\n",
    "MBA_data.head()"
   ]
  },
  {
   "cell_type": "code",
   "execution_count": 180,
   "id": "ba00de09-b379-46f4-adcf-fbb2eeb94bed",
   "metadata": {},
   "outputs": [
    {
     "name": "stdout",
     "output_type": "stream",
     "text": [
      "47782\n",
      "47782\n"
     ]
    }
   ],
   "source": [
    "# NO EJECUTAR A MENOS QUE SEA NECESARIO\n",
    "# Construyo la matriz en base a productos comprados por fecha\n",
    "tmpVentas.head()\n",
    "\n",
    "for index, row in tmpVentas.iterrows():\n",
    "    fila = []\n",
    "    fila.append(row['datetime'])\n",
    "    #print(row['product_type'])\n",
    "    for col in MBA_data.iloc[:, 1:]:\n",
    "        if row['product_type'] == col:\n",
    "            fila.append(1)\n",
    "        else:\n",
    "            fila.append(0)\n",
    "    MBA_data.loc[len(MBA_data)] = fila\n",
    "    \n",
    "MBA_data = MBA_data.iloc[1:].reset_index(drop=True)\n",
    "print(len(tmpVentas))\n",
    "print(len(MBA_data))"
   ]
  },
  {
   "cell_type": "markdown",
   "id": "fcd24136-ee5c-4cc8-b6e5-271b4293a52f",
   "metadata": {},
   "source": [
    "## Arbol de decisión"
   ]
  },
  {
   "cell_type": "code",
   "execution_count": null,
   "id": "685427db-dbe4-422c-98b7-8e862d464007",
   "metadata": {},
   "outputs": [],
   "source": []
  }
 ],
 "metadata": {
  "kernelspec": {
   "display_name": "Python 3 (ipykernel)",
   "language": "python",
   "name": "python3"
  },
  "language_info": {
   "codemirror_mode": {
    "name": "ipython",
    "version": 3
   },
   "file_extension": ".py",
   "mimetype": "text/x-python",
   "name": "python",
   "nbconvert_exporter": "python",
   "pygments_lexer": "ipython3",
   "version": "3.10.12"
  }
 },
 "nbformat": 4,
 "nbformat_minor": 5
}
